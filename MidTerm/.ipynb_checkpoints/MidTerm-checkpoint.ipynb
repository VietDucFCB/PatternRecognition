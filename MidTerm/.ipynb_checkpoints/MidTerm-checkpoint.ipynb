{
 "cells": [
  {
   "cell_type": "code",
   "execution_count": 2,
   "id": "88fbef44-b369-47fc-a865-63fc98a68714",
   "metadata": {},
   "outputs": [],
   "source": [
    "from scipy.io import loadmat\n",
    "import numpy as np\n",
    "import pickle"
   ]
  },
  {
   "cell_type": "code",
   "execution_count": 6,
   "id": "c38b2cc7-c99e-4d33-a3c0-43538224493b",
   "metadata": {},
   "outputs": [
    {
     "ename": "FileNotFoundError",
     "evalue": "[WinError 3] The system cannot find the path specified: ''",
     "output_type": "error",
     "traceback": [
      "\u001b[1;31m---------------------------------------------------------------------------\u001b[0m",
      "\u001b[1;31mFileNotFoundError\u001b[0m                         Traceback (most recent call last)",
      "Cell \u001b[1;32mIn[6], line 9\u001b[0m\n\u001b[0;32m      6\u001b[0m folder_path \u001b[38;5;241m=\u001b[39m \u001b[38;5;124m'\u001b[39m\u001b[38;5;124m'\u001b[39m  \u001b[38;5;66;03m# Thay bằng đường dẫn đúng\u001b[39;00m\n\u001b[0;32m      8\u001b[0m \u001b[38;5;66;03m# Lặp qua từng file .zip trong thư mục\u001b[39;00m\n\u001b[1;32m----> 9\u001b[0m \u001b[38;5;28;01mfor\u001b[39;00m file_name \u001b[38;5;129;01min\u001b[39;00m os\u001b[38;5;241m.\u001b[39mlistdir(folder_path):\n\u001b[0;32m     10\u001b[0m     \u001b[38;5;28;01mif\u001b[39;00m file_name\u001b[38;5;241m.\u001b[39mendswith(\u001b[38;5;124m'\u001b[39m\u001b[38;5;124m.mat.zip\u001b[39m\u001b[38;5;124m'\u001b[39m):  \u001b[38;5;66;03m# Chỉ xử lý file .mat.zip\u001b[39;00m\n\u001b[0;32m     11\u001b[0m         zip_path \u001b[38;5;241m=\u001b[39m os\u001b[38;5;241m.\u001b[39mpath\u001b[38;5;241m.\u001b[39mjoin(folder_path, file_name)\n",
      "\u001b[1;31mFileNotFoundError\u001b[0m: [WinError 3] The system cannot find the path specified: ''"
     ]
    }
   ],
   "source": [
    "import os\n",
    "import zipfile\n",
    "from scipy.io import loadmat\n",
    "\n",
    "# Đường dẫn đến thư mục chứa các file .mat.zip\n",
    "folder_path = 'Downloads/PatternRecognition/MidTerm/'  # Thay bằng đường dẫn đúng\n",
    "\n",
    "# Lặp qua từng file .zip trong thư mục\n",
    "for file_name in os.listdir(folder_path):\n",
    "    if file_name.endswith('.mat.zip'):  # Chỉ xử lý file .mat.zip\n",
    "        zip_path = os.path.join(folder_path, file_name)\n",
    "        \n",
    "        print(f\"Đang xử lý file: {file_name}\")\n",
    "        \n",
    "        # Mở file .zip\n",
    "        with zipfile.ZipFile(zip_path, 'r') as zip_ref:\n",
    "            # Lấy danh sách file bên trong file .zip (thường chỉ có 1 file .mat)\n",
    "            mat_files = zip_ref.namelist()\n",
    "            if len(mat_files) == 0:\n",
    "                print(\"File zip không chứa file .mat nào!\")\n",
    "                continue\n",
    "            \n",
    "            # Đọc file .mat đầu tiên\n",
    "            with zip_ref.open(mat_files[0]) as mat_file:\n",
    "                # Đọc dữ liệu từ file .mat\n",
    "                data = loadmat(mat_file)\n",
    "\n",
    "                # Xem các khóa trong file .mat\n",
    "                print(\"Các khóa trong file .mat:\", data.keys())\n",
    "\n",
    "                # Ví dụ: Lấy dữ liệu từ khóa 'EEG_data'\n",
    "                if 'EEG_data' in data:  # Thay 'EEG_data' bằng tên khóa phù hợp\n",
    "                    eeg_data = data['EEG_data']\n",
    "                    print(f\"Dữ liệu EEG từ file {file_name}:\", eeg_data.shape)\n",
    "                else:\n",
    "                    print(\"Không tìm thấy khóa 'EEG_data' trong file .mat này.\")\n"
   ]
  },
  {
   "cell_type": "code",
   "execution_count": null,
   "id": "00aaf362-90e5-4132-83f4-c48d9b7889b1",
   "metadata": {},
   "outputs": [],
   "source": []
  }
 ],
 "metadata": {
  "kernelspec": {
   "display_name": "Python 3 (ipykernel)",
   "language": "python",
   "name": "python3"
  },
  "language_info": {
   "codemirror_mode": {
    "name": "ipython",
    "version": 3
   },
   "file_extension": ".py",
   "mimetype": "text/x-python",
   "name": "python",
   "nbconvert_exporter": "python",
   "pygments_lexer": "ipython3",
   "version": "3.12.4"
  }
 },
 "nbformat": 4,
 "nbformat_minor": 5
}
